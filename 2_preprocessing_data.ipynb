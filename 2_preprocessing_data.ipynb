{
 "cells": [
  {
   "cell_type": "code",
   "execution_count": null,
   "id": "cf549e86-6c4c-435a-a2c6-a4cbb23086e7",
   "metadata": {},
   "outputs": [],
   "source": []
  },
  {
   "cell_type": "markdown",
   "id": "44005fd2-dfd1-44fc-bcb8-00c719ea90dd",
   "metadata": {
    "tags": []
   },
   "source": [
    "## 1. Categories data"
   ]
  },
  {
   "cell_type": "code",
   "execution_count": 9,
   "id": "3c529098-90ef-4535-a1b3-d3176600c615",
   "metadata": {},
   "outputs": [],
   "source": [
    "import os"
   ]
  },
  {
   "cell_type": "code",
   "execution_count": 13,
   "id": "a4e0648d-902f-43ff-af79-b16a300c5cd5",
   "metadata": {},
   "outputs": [],
   "source": [
    "root_imgs_path = \"static/img/\""
   ]
  },
  {
   "cell_type": "code",
   "execution_count": null,
   "id": "30705137-c0cb-4b9f-b55d-33b9e53227ba",
   "metadata": {},
   "outputs": [],
   "source": []
  },
  {
   "cell_type": "code",
   "execution_count": 14,
   "id": "2501386e-723f-4d71-9e15-f13756664a1b",
   "metadata": {},
   "outputs": [],
   "source": [
    "dic_categories = {'scenery' : [], 'furniture' : [], 'animal' : [], 'plant' : []}"
   ]
  },
  {
   "cell_type": "code",
   "execution_count": 15,
   "id": "a748f86c-4f20-4953-aa94-0a5f6c857c61",
   "metadata": {},
   "outputs": [],
   "source": [
    "for path in os.listdir(root_imgs_path):\n",
    "    c, name = path.split(\"_\")\n",
    "    if c in dic_categories.keys():\n",
    "        dic_categories[c].append(name)"
   ]
  },
  {
   "cell_type": "code",
   "execution_count": 18,
   "id": "8c58eda3-bea6-46f2-bd55-cbf968405cdc",
   "metadata": {},
   "outputs": [
    {
     "data": {
      "text/plain": [
       "124"
      ]
     },
     "execution_count": 18,
     "metadata": {},
     "output_type": "execute_result"
    }
   ],
   "source": [
    "sum([len(dic_categories[c]) for c in dic_categories])"
   ]
  },
  {
   "cell_type": "code",
   "execution_count": 19,
   "id": "c062b711-2ee9-4556-a894-83edcaf47473",
   "metadata": {},
   "outputs": [
    {
     "data": {
      "text/plain": [
       "{'scenery': ['Bay',\n",
       "  'cave',\n",
       "  'Cliff',\n",
       "  'cloud',\n",
       "  'desert',\n",
       "  'farmland',\n",
       "  'flowergarden',\n",
       "  'Forests',\n",
       "  'glacier',\n",
       "  'grassland',\n",
       "  'horizon',\n",
       "  'lighthouse',\n",
       "  'Mountains',\n",
       "  'river',\n",
       "  'sky',\n",
       "  'valley',\n",
       "  'volcano',\n",
       "  'waterfall'],\n",
       " 'furniture': ['ball',\n",
       "  'bed',\n",
       "  'book',\n",
       "  'Bookcase',\n",
       "  'Bowl',\n",
       "  'cabinet',\n",
       "  'cart',\n",
       "  'chair',\n",
       "  'chests',\n",
       "  'clock',\n",
       "  'Clothes',\n",
       "  'desks',\n",
       "  'fridge',\n",
       "  'pan',\n",
       "  'Piano',\n",
       "  'sofa',\n",
       "  'spoon',\n",
       "  'table',\n",
       "  'Umbrella'],\n",
       " 'animal': ['Alligator',\n",
       "  'Alpaca',\n",
       "  'Anteater',\n",
       "  'Ants',\n",
       "  'Bats',\n",
       "  'bear',\n",
       "  'Bee',\n",
       "  'bird',\n",
       "  'Buffalo',\n",
       "  'Butterfly',\n",
       "  'Camel',\n",
       "  'Cat',\n",
       "  'Caterpillar',\n",
       "  'Cheetah',\n",
       "  'Chicken',\n",
       "  'Civet',\n",
       "  'Cock',\n",
       "  'Cockroaches',\n",
       "  'Coral',\n",
       "  'cows',\n",
       "  'Crab',\n",
       "  'Dog',\n",
       "  'donkey',\n",
       "  'Dragonfly',\n",
       "  'Duck',\n",
       "  'Elephant',\n",
       "  'Fish',\n",
       "  'flamingo',\n",
       "  'Flies',\n",
       "  'fox',\n",
       "  'Frog',\n",
       "  'Giraffe',\n",
       "  'horse',\n",
       "  'Jellyfish',\n",
       "  'Lizard',\n",
       "  'Monkey',\n",
       "  'Mosquito',\n",
       "  'Owl',\n",
       "  'panda',\n",
       "  'Pangolins',\n",
       "  'pig',\n",
       "  'Rabbit',\n",
       "  'scorpion',\n",
       "  'shrimp',\n",
       "  'Snail',\n",
       "  'Snake',\n",
       "  'Spider',\n",
       "  'tiger',\n",
       "  'Turtle',\n",
       "  'Whale'],\n",
       " 'plant': ['Apple',\n",
       "  'Apricot',\n",
       "  'Bamboo',\n",
       "  'Banana',\n",
       "  'Bean',\n",
       "  'Bougainvillea',\n",
       "  'carrot',\n",
       "  'Clove',\n",
       "  'Coconut',\n",
       "  'CoffeePlant',\n",
       "  'Corn',\n",
       "  'CornelianTree',\n",
       "  'CottonPlant',\n",
       "  'Dogwood',\n",
       "  'Durian',\n",
       "  'Fern',\n",
       "  'Fig',\n",
       "  'Flax',\n",
       "  'Flower',\n",
       "  'Frangipani',\n",
       "  'Grass',\n",
       "  'Hibiscus',\n",
       "  'JackFruit',\n",
       "  'Lantana',\n",
       "  'Moss',\n",
       "  'Mushroom',\n",
       "  'OrchidTree',\n",
       "  'PalmTree',\n",
       "  'Pea',\n",
       "  'radish',\n",
       "  'RangoonCreeper',\n",
       "  'Reed',\n",
       "  'Rose',\n",
       "  'Tulip',\n",
       "  'watermelon',\n",
       "  'Weed',\n",
       "  'wheat']}"
      ]
     },
     "execution_count": 19,
     "metadata": {},
     "output_type": "execute_result"
    }
   ],
   "source": [
    "dic_categories"
   ]
  },
  {
   "cell_type": "code",
   "execution_count": 20,
   "id": "31e74e3f-cfc0-4760-941f-afad473f5bbc",
   "metadata": {},
   "outputs": [],
   "source": [
    "max_len = max([len(dic_categories[c]) for c in dic_categories])"
   ]
  },
  {
   "cell_type": "code",
   "execution_count": 21,
   "id": "2155081f-fb33-4570-b25f-9525d6e00d7f",
   "metadata": {},
   "outputs": [
    {
     "data": {
      "text/plain": [
       "50"
      ]
     },
     "execution_count": 21,
     "metadata": {},
     "output_type": "execute_result"
    }
   ],
   "source": [
    "max_len"
   ]
  },
  {
   "cell_type": "code",
   "execution_count": 12,
   "id": "2196e53f-1c72-4317-a942-71158cb34f14",
   "metadata": {},
   "outputs": [],
   "source": [
    "for c in dic_categories:\n",
    "    dic_categories[c] += [\"\"]*(max_len - len(dic_categories[c]))"
   ]
  },
  {
   "cell_type": "code",
   "execution_count": 17,
   "id": "227862e7-7f8d-4cad-bdc9-8a7a8182f717",
   "metadata": {},
   "outputs": [],
   "source": [
    "import pandas as pd\n",
    "df = pd.DataFrame(dic_categories)"
   ]
  },
  {
   "cell_type": "code",
   "execution_count": 18,
   "id": "94bf8001-4354-4bae-a77a-df2672729c71",
   "metadata": {},
   "outputs": [],
   "source": [
    "df.to_csv(\"categories.csv\", index=False)"
   ]
  },
  {
   "cell_type": "code",
   "execution_count": null,
   "id": "79dc87b8-7c48-4655-9c82-2aa803df89aa",
   "metadata": {},
   "outputs": [],
   "source": []
  },
  {
   "cell_type": "markdown",
   "id": "17c8fcf8-ba7c-43cd-894e-3163c94e0d18",
   "metadata": {},
   "source": [
    "## 2. Preprocessing data"
   ]
  },
  {
   "cell_type": "code",
   "execution_count": null,
   "id": "43d5da90-6530-40c1-a7c9-34eec7d11c32",
   "metadata": {},
   "outputs": [],
   "source": []
  },
  {
   "cell_type": "code",
   "execution_count": 2,
   "id": "6e0993ef-4ab2-4161-8075-0cb2ae9cda2e",
   "metadata": {},
   "outputs": [],
   "source": [
    "import os\n",
    "from PIL import Image\n",
    "import numpy as np\n",
    "import warnings\n",
    "warnings.filterwarnings(\"ignore\", \"(Possibly )?corrupt EXIF data\", UserWarning)\n",
    "Image.MAX_IMAGE_PIXELS = None"
   ]
  },
  {
   "cell_type": "code",
   "execution_count": 3,
   "id": "29d684d0-c8de-4c10-a4d3-10d3e5c8eb60",
   "metadata": {},
   "outputs": [],
   "source": [
    "root_img_path = \"img/\"\n",
    "dic_categories = ['scenery', 'furniture', 'animal', 'plant']\n",
    "count = 0"
   ]
  },
  {
   "cell_type": "code",
   "execution_count": 81,
   "id": "a5ab3cdb-99d2-4d0e-b77e-940ce1823f6f",
   "metadata": {},
   "outputs": [
    {
     "data": {
      "text/plain": [
       "0"
      ]
     },
     "execution_count": 81,
     "metadata": {},
     "output_type": "execute_result"
    }
   ],
   "source": [
    "count"
   ]
  },
  {
   "cell_type": "code",
   "execution_count": 82,
   "id": "3d26d97f-3d0f-4ad4-a8d1-cf33e9a5ebd1",
   "metadata": {},
   "outputs": [],
   "source": [
    "for folder in os.listdir(root_img_path):\n",
    "    if folder.split(\"_\")[0] in dic_categories:\n",
    "        path = root_img_path + folder\n",
    "        list_dir = [path + '/' + name for name in os.listdir(path) if name.endswith((\".jpg\", \".png\", \".jpeg\"))]\n",
    "        for p in list_dir:\n",
    "            try:\n",
    "                img = Image.open(p).resize((224, 224)) # open the image file\n",
    "                \n",
    "                if img.width < 10:\n",
    "                    print(\"Image too small: \", p)\n",
    "#                     os.remove(p) # chú ý chỗ này, mới đầu chạy phải comment lại không lỡ lỗi mất hết ảnh\n",
    "\n",
    "                img.verify() # verify that it is, in fact an image\n",
    "                \n",
    "\n",
    "            except Exception:\n",
    "                count += 1\n",
    "                print(\"error: \", p)\n",
    "#                 os.remove(p) # chú ý chỗ này, mới đầu chạy phải comment lại không lỡ lỗi mất hết ảnh"
   ]
  },
  {
   "cell_type": "code",
   "execution_count": null,
   "id": "fe4f3c8f-78ed-4713-a824-7398053e86de",
   "metadata": {},
   "outputs": [],
   "source": []
  }
 ],
 "metadata": {
  "kernelspec": {
   "display_name": "Python 3 (ipykernel)",
   "language": "python",
   "name": "python3"
  },
  "language_info": {
   "codemirror_mode": {
    "name": "ipython",
    "version": 3
   },
   "file_extension": ".py",
   "mimetype": "text/x-python",
   "name": "python",
   "nbconvert_exporter": "python",
   "pygments_lexer": "ipython3",
   "version": "3.9.6"
  }
 },
 "nbformat": 4,
 "nbformat_minor": 5
}
